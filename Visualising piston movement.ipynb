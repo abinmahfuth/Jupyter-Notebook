{
 "cells": [
  {
   "cell_type": "markdown",
   "metadata": {},
   "source": [
    "# Stirling Engine design principles\n",
    "\n",
    "This code is intended to aid Stirling engine designers to choose the appropiate measurement to get the desired output."
   ]
  },
  {
   "cell_type": "code",
   "execution_count": 78,
   "metadata": {},
   "outputs": [],
   "source": [
    "import numpy as np\n",
    "import matplotlib.pyplot as plt \n",
    "import ipywidgets as widgets\n",
    "import pandas as pd\n",
    "plt.style.use('seaborn')\n",
    "%matplotlib inline\n",
    "%config InlineBackend.figure_format = 'svg'\n"
   ]
  },
  {
   "cell_type": "markdown",
   "metadata": {},
   "source": [
    "# Definitions\n",
    "..."
   ]
  },
  {
   "cell_type": "code",
   "execution_count": 82,
   "metadata": {},
   "outputs": [
    {
     "data": {
      "application/vnd.jupyter.widget-view+json": {
       "model_id": "02525cb3da3c4e6aba824957e0a0c141",
       "version_major": 2,
       "version_minor": 0
      },
      "text/plain": [
       "interactive(children=(IntSlider(value=40, description='A', min=1), IntSlider(value=12, description='P', min=1)…"
      ]
     },
     "metadata": {},
     "output_type": "display_data"
    }
   ],
   "source": [
    "def f1(A = 40,P = 12,k1 = 0,k2 = 0.5):\n",
    "    theta = np.linspace(-20, 20, num=2000)\n",
    "    alpha = np.linspace(-20, 20, num=2000)\n",
    "    x = A*np.cos(theta-k1)+np.sqrt(A**2 * np.cos(theta-k1)**2-0.5*(P**2 - A**2))\n",
    "    df=pd.DataFrame({\"Piston1\":A*np.cos(theta-k1)+np.sqrt(A**2 * np.cos(theta-k1)**2-0.5*(P**2 - A**2)),\"Piston2\":A*np.cos(alpha-k2)+np.sqrt(A**2 * np.cos(alpha-k2)**2-0.5*(P**2 - A**2))})\n",
    "    df.plot()  \n",
    "widget=widgets.interactive(f1,A=(1,100,),P=(1,100), k1=(0,10,0.1), k2=(0,10,0.1))\n",
    "widget"
   ]
  },
  {
   "cell_type": "code",
   "execution_count": null,
   "metadata": {},
   "outputs": [],
   "source": []
  }
 ],
 "metadata": {
  "kernelspec": {
   "display_name": "Python 3",
   "language": "python",
   "name": "python3"
  },
  "language_info": {
   "codemirror_mode": {
    "name": "ipython",
    "version": 3
   },
   "file_extension": ".py",
   "mimetype": "text/x-python",
   "name": "python",
   "nbconvert_exporter": "python",
   "pygments_lexer": "ipython3",
   "version": "3.7.3"
  }
 },
 "nbformat": 4,
 "nbformat_minor": 2
}
